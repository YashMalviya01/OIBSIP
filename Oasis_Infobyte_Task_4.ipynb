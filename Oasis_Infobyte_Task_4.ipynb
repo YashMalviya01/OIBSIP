{
  "nbformat": 4,
  "nbformat_minor": 0,
  "metadata": {
    "colab": {
      "provenance": []
    },
    "kernelspec": {
      "name": "python3",
      "display_name": "Python 3"
    },
    "language_info": {
      "name": "python"
    }
  },
  "cells": [
    {
      "cell_type": "markdown",
      "source": [
        "Name - Yash Malviya\n",
        "\n",
        "Designation - Data Analytics Internship @Oasis Infobyte\n",
        "\n",
        "Task - Task 4 , Level 1, Sentiment Analysis\n",
        "\n",
        "Date - 28/07/2024\n"
      ],
      "metadata": {
        "id": "ijbwa_-5W8TN"
      }
    },
    {
      "cell_type": "markdown",
      "source": [
        "Loading Data & Importing All Required Libraries"
      ],
      "metadata": {
        "id": "GE4uvnCkXb62"
      }
    },
    {
      "cell_type": "code",
      "source": [
        "import pandas as pd\n",
        "import numpy as np\n",
        "import matplotlib.pyplot as plt\n",
        "import seaborn as sns\n",
        "from sklearn.model_selection import train_test_split\n",
        "from sklearn.feature_extraction.text import CountVectorizer\n",
        "from sklearn.naive_bayes import MultinomialNB\n",
        "from sklearn.metrics import accuracy_score, classification_report"
      ],
      "metadata": {
        "id": "tKFepZXOkgip"
      },
      "execution_count": null,
      "outputs": []
    },
    {
      "cell_type": "code",
      "source": [
        "apps = pd.read_csv('apps.csv')"
      ],
      "metadata": {
        "id": "NLuAPB_0lKt2"
      },
      "execution_count": null,
      "outputs": []
    },
    {
      "cell_type": "code",
      "source": [
        "user_reviews = pd.read_csv('user_reviews.csv')"
      ],
      "metadata": {
        "id": "8DMi0vGVlTMA"
      },
      "execution_count": null,
      "outputs": []
    },
    {
      "cell_type": "code",
      "source": [
        "twitter_data = pd.read_csv('Twitter_Data.csv')"
      ],
      "metadata": {
        "id": "l0AfmDaYlWXp"
      },
      "execution_count": null,
      "outputs": []
    },
    {
      "cell_type": "code",
      "source": [
        "print(twitter_data.info())"
      ],
      "metadata": {
        "colab": {
          "base_uri": "https://localhost:8080/"
        },
        "id": "VG-bdSH8ltWU",
        "outputId": "b8edc5fb-d23f-4e15-f59d-4fc49c2a4dc4"
      },
      "execution_count": null,
      "outputs": [
        {
          "output_type": "stream",
          "name": "stdout",
          "text": [
            "<class 'pandas.core.frame.DataFrame'>\n",
            "RangeIndex: 162980 entries, 0 to 162979\n",
            "Data columns (total 2 columns):\n",
            " #   Column      Non-Null Count   Dtype  \n",
            "---  ------      --------------   -----  \n",
            " 0   clean_text  162976 non-null  object \n",
            " 1   category    162973 non-null  float64\n",
            "dtypes: float64(1), object(1)\n",
            "memory usage: 2.5+ MB\n",
            "None\n"
          ]
        }
      ]
    },
    {
      "cell_type": "code",
      "source": [
        "print(twitter_data.describe)"
      ],
      "metadata": {
        "colab": {
          "base_uri": "https://localhost:8080/"
        },
        "id": "xdfglkzwl4Pm",
        "outputId": "fb13ec07-9cfa-403a-8588-b0b623392ec8"
      },
      "execution_count": null,
      "outputs": [
        {
          "output_type": "stream",
          "name": "stdout",
          "text": [
            "<bound method NDFrame.describe of                                                clean_text  category\n",
            "0       when modi promised “minimum government maximum...      -1.0\n",
            "1       talk all the nonsense and continue all the dra...       0.0\n",
            "2       what did just say vote for modi  welcome bjp t...       1.0\n",
            "3       asking his supporters prefix chowkidar their n...       1.0\n",
            "4       answer who among these the most powerful world...       1.0\n",
            "...                                                   ...       ...\n",
            "162975  why these 456 crores paid neerav modi not reco...      -1.0\n",
            "162976  dear rss terrorist payal gawar what about modi...      -1.0\n",
            "162977  did you cover her interaction forum where she ...       0.0\n",
            "162978  there big project came into india modi dream p...       0.0\n",
            "162979  have you ever listen about like gurukul where ...       1.0\n",
            "\n",
            "[162980 rows x 2 columns]>\n"
          ]
        }
      ]
    },
    {
      "cell_type": "code",
      "source": [
        "print(twitter_data.dtypes)"
      ],
      "metadata": {
        "colab": {
          "base_uri": "https://localhost:8080/"
        },
        "id": "LNwdarLyl9yk",
        "outputId": "c418195d-6147-45b4-d19c-3588ecd37758"
      },
      "execution_count": null,
      "outputs": [
        {
          "output_type": "stream",
          "name": "stdout",
          "text": [
            "clean_text     object\n",
            "category      float64\n",
            "dtype: object\n"
          ]
        }
      ]
    },
    {
      "cell_type": "code",
      "source": [
        "print(twitter_data.head())"
      ],
      "metadata": {
        "colab": {
          "base_uri": "https://localhost:8080/"
        },
        "id": "mXaS2tWZmRfR",
        "outputId": "5974b5af-bab0-48cc-f9f0-de9b578a6d6c"
      },
      "execution_count": null,
      "outputs": [
        {
          "output_type": "stream",
          "name": "stdout",
          "text": [
            "                                          clean_text  category\n",
            "0  when modi promised “minimum government maximum...      -1.0\n",
            "1  talk all the nonsense and continue all the dra...       0.0\n",
            "2  what did just say vote for modi  welcome bjp t...       1.0\n",
            "3  asking his supporters prefix chowkidar their n...       1.0\n",
            "4  answer who among these the most powerful world...       1.0\n"
          ]
        }
      ]
    },
    {
      "cell_type": "code",
      "source": [
        "print(twitter_data.tail())"
      ],
      "metadata": {
        "colab": {
          "base_uri": "https://localhost:8080/"
        },
        "id": "amTH4t4hmYQ2",
        "outputId": "45ec54a9-3a46-4fd3-ad2f-6f7876c805c0"
      },
      "execution_count": null,
      "outputs": [
        {
          "output_type": "stream",
          "name": "stdout",
          "text": [
            "                                               clean_text  category\n",
            "162975  why these 456 crores paid neerav modi not reco...      -1.0\n",
            "162976  dear rss terrorist payal gawar what about modi...      -1.0\n",
            "162977  did you cover her interaction forum where she ...       0.0\n",
            "162978  there big project came into india modi dream p...       0.0\n",
            "162979  have you ever listen about like gurukul where ...       1.0\n"
          ]
        }
      ]
    },
    {
      "cell_type": "code",
      "source": [
        "print(twitter_data.isnull().sum())"
      ],
      "metadata": {
        "colab": {
          "base_uri": "https://localhost:8080/"
        },
        "id": "vS0MZgh8mayz",
        "outputId": "a8442e29-bdcf-47f3-93c5-36838822ab58"
      },
      "execution_count": null,
      "outputs": [
        {
          "output_type": "stream",
          "name": "stdout",
          "text": [
            "clean_text    4\n",
            "category      7\n",
            "dtype: int64\n"
          ]
        }
      ]
    },
    {
      "cell_type": "code",
      "source": [
        "print(twitter_data.isnull())"
      ],
      "metadata": {
        "colab": {
          "base_uri": "https://localhost:8080/"
        },
        "id": "FG47EK-9mgwV",
        "outputId": "73459acb-8555-4c1c-a1f0-b444b7756f4f"
      },
      "execution_count": null,
      "outputs": [
        {
          "output_type": "stream",
          "name": "stdout",
          "text": [
            "        clean_text  category\n",
            "0            False     False\n",
            "1            False     False\n",
            "2            False     False\n",
            "3            False     False\n",
            "4            False     False\n",
            "...            ...       ...\n",
            "162975       False     False\n",
            "162976       False     False\n",
            "162977       False     False\n",
            "162978       False     False\n",
            "162979       False     False\n",
            "\n",
            "[162980 rows x 2 columns]\n"
          ]
        }
      ]
    },
    {
      "cell_type": "code",
      "source": [
        "print(twitter_data.duplicated())"
      ],
      "metadata": {
        "colab": {
          "base_uri": "https://localhost:8080/"
        },
        "id": "qWklHYHKmn4n",
        "outputId": "4c126691-e1e1-4062-a249-d5dfd3d65f79"
      },
      "execution_count": null,
      "outputs": [
        {
          "output_type": "stream",
          "name": "stdout",
          "text": [
            "0         False\n",
            "1         False\n",
            "2         False\n",
            "3         False\n",
            "4         False\n",
            "          ...  \n",
            "162975    False\n",
            "162976    False\n",
            "162977    False\n",
            "162978    False\n",
            "162979    False\n",
            "Length: 162980, dtype: bool\n"
          ]
        }
      ]
    },
    {
      "cell_type": "code",
      "source": [
        "print(twitter_data.duplicated().sum())"
      ],
      "metadata": {
        "colab": {
          "base_uri": "https://localhost:8080/"
        },
        "id": "HSOjHD9fmqvJ",
        "outputId": "386a0c74-c536-4c88-835e-4588044ef0c5"
      },
      "execution_count": null,
      "outputs": [
        {
          "output_type": "stream",
          "name": "stdout",
          "text": [
            "1\n"
          ]
        }
      ]
    },
    {
      "cell_type": "code",
      "source": [
        "print(apps.info())"
      ],
      "metadata": {
        "colab": {
          "base_uri": "https://localhost:8080/"
        },
        "id": "sNsjqGJymxCQ",
        "outputId": "a97d3cd6-3136-490a-cff7-7cf5cefbac8c"
      },
      "execution_count": null,
      "outputs": [
        {
          "output_type": "stream",
          "name": "stdout",
          "text": [
            "<class 'pandas.core.frame.DataFrame'>\n",
            "RangeIndex: 9659 entries, 0 to 9658\n",
            "Data columns (total 14 columns):\n",
            " #   Column          Non-Null Count  Dtype  \n",
            "---  ------          --------------  -----  \n",
            " 0   Unnamed: 0      9659 non-null   int64  \n",
            " 1   App             9659 non-null   object \n",
            " 2   Category        9659 non-null   object \n",
            " 3   Rating          8196 non-null   float64\n",
            " 4   Reviews         9659 non-null   int64  \n",
            " 5   Size            8432 non-null   object \n",
            " 6   Installs        9659 non-null   object \n",
            " 7   Type            9658 non-null   object \n",
            " 8   Price           9659 non-null   object \n",
            " 9   Content Rating  9659 non-null   object \n",
            " 10  Genres          9659 non-null   object \n",
            " 11  Last Updated    9659 non-null   object \n",
            " 12  Current Ver     9651 non-null   object \n",
            " 13  Android Ver     9657 non-null   object \n",
            "dtypes: float64(1), int64(2), object(11)\n",
            "memory usage: 1.0+ MB\n",
            "None\n"
          ]
        }
      ]
    },
    {
      "cell_type": "code",
      "source": [
        "print(apps.describe)"
      ],
      "metadata": {
        "colab": {
          "base_uri": "https://localhost:8080/"
        },
        "id": "Jzv7nRU7m9z7",
        "outputId": "9dcd3a9d-3798-4e31-f2e5-6edceadedc60"
      },
      "execution_count": null,
      "outputs": [
        {
          "output_type": "stream",
          "name": "stdout",
          "text": [
            "<bound method NDFrame.describe of       Unnamed: 0                                                App  \\\n",
            "0              0     Photo Editor & Candy Camera & Grid & ScrapBook   \n",
            "1              1                                Coloring book moana   \n",
            "2              2  U Launcher Lite – FREE Live Cool Themes, Hide ...   \n",
            "3              3                              Sketch - Draw & Paint   \n",
            "4              4              Pixel Draw - Number Art Coloring Book   \n",
            "...          ...                                                ...   \n",
            "9654       10836                                   Sya9a Maroc - FR   \n",
            "9655       10837                   Fr. Mike Schmitz Audio Teachings   \n",
            "9656       10838                             Parkinson Exercices FR   \n",
            "9657       10839                      The SCP Foundation DB fr nn5n   \n",
            "9658       10840      iHoroscope - 2018 Daily Horoscope & Astrology   \n",
            "\n",
            "                 Category  Rating  Reviews  Size     Installs  Type Price  \\\n",
            "0          ART_AND_DESIGN     4.1      159   19M      10,000+  Free     0   \n",
            "1          ART_AND_DESIGN     3.9      967   14M     500,000+  Free     0   \n",
            "2          ART_AND_DESIGN     4.7    87510  8.7M   5,000,000+  Free     0   \n",
            "3          ART_AND_DESIGN     4.5   215644   25M  50,000,000+  Free     0   \n",
            "4          ART_AND_DESIGN     4.3      967  2.8M     100,000+  Free     0   \n",
            "...                   ...     ...      ...   ...          ...   ...   ...   \n",
            "9654               FAMILY     4.5       38   53M       5,000+  Free     0   \n",
            "9655               FAMILY     5.0        4  3.6M         100+  Free     0   \n",
            "9656              MEDICAL     NaN        3  9.5M       1,000+  Free     0   \n",
            "9657  BOOKS_AND_REFERENCE     4.5      114   NaN       1,000+  Free     0   \n",
            "9658            LIFESTYLE     4.5   398307   19M  10,000,000+  Free     0   \n",
            "\n",
            "     Content Rating                     Genres      Last Updated  \\\n",
            "0          Everyone               Art & Design   January 7, 2018   \n",
            "1          Everyone  Art & Design;Pretend Play  January 15, 2018   \n",
            "2          Everyone               Art & Design    August 1, 2018   \n",
            "3              Teen               Art & Design      June 8, 2018   \n",
            "4          Everyone    Art & Design;Creativity     June 20, 2018   \n",
            "...             ...                        ...               ...   \n",
            "9654       Everyone                  Education     July 25, 2017   \n",
            "9655       Everyone                  Education      July 6, 2018   \n",
            "9656       Everyone                    Medical  January 20, 2017   \n",
            "9657     Mature 17+          Books & Reference  January 19, 2015   \n",
            "9658       Everyone                  Lifestyle     July 25, 2018   \n",
            "\n",
            "             Current Ver         Android Ver  \n",
            "0                  1.0.0        4.0.3 and up  \n",
            "1                  2.0.0        4.0.3 and up  \n",
            "2                  1.2.4        4.0.3 and up  \n",
            "3     Varies with device          4.2 and up  \n",
            "4                    1.1          4.4 and up  \n",
            "...                  ...                 ...  \n",
            "9654                1.48          4.1 and up  \n",
            "9655                 1.0          4.1 and up  \n",
            "9656                 1.0          2.2 and up  \n",
            "9657  Varies with device  Varies with device  \n",
            "9658  Varies with device  Varies with device  \n",
            "\n",
            "[9659 rows x 14 columns]>\n"
          ]
        }
      ]
    },
    {
      "cell_type": "code",
      "source": [
        "print(apps.dtypes)"
      ],
      "metadata": {
        "colab": {
          "base_uri": "https://localhost:8080/"
        },
        "id": "RrEjFmHSnAei",
        "outputId": "c1271743-7d57-4d4a-db43-b76cb7860ffe"
      },
      "execution_count": null,
      "outputs": [
        {
          "output_type": "stream",
          "name": "stdout",
          "text": [
            "Unnamed: 0          int64\n",
            "App                object\n",
            "Category           object\n",
            "Rating            float64\n",
            "Reviews             int64\n",
            "Size               object\n",
            "Installs           object\n",
            "Type               object\n",
            "Price              object\n",
            "Content Rating     object\n",
            "Genres             object\n",
            "Last Updated       object\n",
            "Current Ver        object\n",
            "Android Ver        object\n",
            "dtype: object\n"
          ]
        }
      ]
    },
    {
      "cell_type": "code",
      "source": [
        "print(apps.head())"
      ],
      "metadata": {
        "colab": {
          "base_uri": "https://localhost:8080/"
        },
        "id": "HGa91RH0nDRK",
        "outputId": "f36a955d-1831-4ba4-fa6d-e64208f942de"
      },
      "execution_count": null,
      "outputs": [
        {
          "output_type": "stream",
          "name": "stdout",
          "text": [
            "   Unnamed: 0                                                App  \\\n",
            "0           0     Photo Editor & Candy Camera & Grid & ScrapBook   \n",
            "1           1                                Coloring book moana   \n",
            "2           2  U Launcher Lite – FREE Live Cool Themes, Hide ...   \n",
            "3           3                              Sketch - Draw & Paint   \n",
            "4           4              Pixel Draw - Number Art Coloring Book   \n",
            "\n",
            "         Category  Rating  Reviews  Size     Installs  Type Price  \\\n",
            "0  ART_AND_DESIGN     4.1      159   19M      10,000+  Free     0   \n",
            "1  ART_AND_DESIGN     3.9      967   14M     500,000+  Free     0   \n",
            "2  ART_AND_DESIGN     4.7    87510  8.7M   5,000,000+  Free     0   \n",
            "3  ART_AND_DESIGN     4.5   215644   25M  50,000,000+  Free     0   \n",
            "4  ART_AND_DESIGN     4.3      967  2.8M     100,000+  Free     0   \n",
            "\n",
            "  Content Rating                     Genres      Last Updated  \\\n",
            "0       Everyone               Art & Design   January 7, 2018   \n",
            "1       Everyone  Art & Design;Pretend Play  January 15, 2018   \n",
            "2       Everyone               Art & Design    August 1, 2018   \n",
            "3           Teen               Art & Design      June 8, 2018   \n",
            "4       Everyone    Art & Design;Creativity     June 20, 2018   \n",
            "\n",
            "          Current Ver   Android Ver  \n",
            "0               1.0.0  4.0.3 and up  \n",
            "1               2.0.0  4.0.3 and up  \n",
            "2               1.2.4  4.0.3 and up  \n",
            "3  Varies with device    4.2 and up  \n",
            "4                 1.1    4.4 and up  \n"
          ]
        }
      ]
    },
    {
      "cell_type": "code",
      "source": [
        "print(apps.tail())"
      ],
      "metadata": {
        "colab": {
          "base_uri": "https://localhost:8080/"
        },
        "id": "cjUBef67nJcq",
        "outputId": "af44f25f-051e-4731-ee47-8c396d2d8b06"
      },
      "execution_count": null,
      "outputs": [
        {
          "output_type": "stream",
          "name": "stdout",
          "text": [
            "      Unnamed: 0                                            App  \\\n",
            "9654       10836                               Sya9a Maroc - FR   \n",
            "9655       10837               Fr. Mike Schmitz Audio Teachings   \n",
            "9656       10838                         Parkinson Exercices FR   \n",
            "9657       10839                  The SCP Foundation DB fr nn5n   \n",
            "9658       10840  iHoroscope - 2018 Daily Horoscope & Astrology   \n",
            "\n",
            "                 Category  Rating  Reviews  Size     Installs  Type Price  \\\n",
            "9654               FAMILY     4.5       38   53M       5,000+  Free     0   \n",
            "9655               FAMILY     5.0        4  3.6M         100+  Free     0   \n",
            "9656              MEDICAL     NaN        3  9.5M       1,000+  Free     0   \n",
            "9657  BOOKS_AND_REFERENCE     4.5      114   NaN       1,000+  Free     0   \n",
            "9658            LIFESTYLE     4.5   398307   19M  10,000,000+  Free     0   \n",
            "\n",
            "     Content Rating             Genres      Last Updated         Current Ver  \\\n",
            "9654       Everyone          Education     July 25, 2017                1.48   \n",
            "9655       Everyone          Education      July 6, 2018                 1.0   \n",
            "9656       Everyone            Medical  January 20, 2017                 1.0   \n",
            "9657     Mature 17+  Books & Reference  January 19, 2015  Varies with device   \n",
            "9658       Everyone          Lifestyle     July 25, 2018  Varies with device   \n",
            "\n",
            "             Android Ver  \n",
            "9654          4.1 and up  \n",
            "9655          4.1 and up  \n",
            "9656          2.2 and up  \n",
            "9657  Varies with device  \n",
            "9658  Varies with device  \n"
          ]
        }
      ]
    },
    {
      "cell_type": "code",
      "source": [
        "print(apps.isnull())"
      ],
      "metadata": {
        "colab": {
          "base_uri": "https://localhost:8080/"
        },
        "id": "gMNHFnYOnMEw",
        "outputId": "8f9d78df-6288-456d-bf42-a91d08b60b41"
      },
      "execution_count": null,
      "outputs": [
        {
          "output_type": "stream",
          "name": "stdout",
          "text": [
            "      Unnamed: 0    App  Category  Rating  Reviews   Size  Installs   Type  \\\n",
            "0          False  False     False   False    False  False     False  False   \n",
            "1          False  False     False   False    False  False     False  False   \n",
            "2          False  False     False   False    False  False     False  False   \n",
            "3          False  False     False   False    False  False     False  False   \n",
            "4          False  False     False   False    False  False     False  False   \n",
            "...          ...    ...       ...     ...      ...    ...       ...    ...   \n",
            "9654       False  False     False   False    False  False     False  False   \n",
            "9655       False  False     False   False    False  False     False  False   \n",
            "9656       False  False     False    True    False  False     False  False   \n",
            "9657       False  False     False   False    False   True     False  False   \n",
            "9658       False  False     False   False    False  False     False  False   \n",
            "\n",
            "      Price  Content Rating  Genres  Last Updated  Current Ver  Android Ver  \n",
            "0     False           False   False         False        False        False  \n",
            "1     False           False   False         False        False        False  \n",
            "2     False           False   False         False        False        False  \n",
            "3     False           False   False         False        False        False  \n",
            "4     False           False   False         False        False        False  \n",
            "...     ...             ...     ...           ...          ...          ...  \n",
            "9654  False           False   False         False        False        False  \n",
            "9655  False           False   False         False        False        False  \n",
            "9656  False           False   False         False        False        False  \n",
            "9657  False           False   False         False        False        False  \n",
            "9658  False           False   False         False        False        False  \n",
            "\n",
            "[9659 rows x 14 columns]\n"
          ]
        }
      ]
    },
    {
      "cell_type": "code",
      "source": [
        "print(apps.isnull().sum())"
      ],
      "metadata": {
        "colab": {
          "base_uri": "https://localhost:8080/"
        },
        "id": "RrqhyYmVnPay",
        "outputId": "b9155a54-bd67-40fd-d25a-1b20910d01e4"
      },
      "execution_count": null,
      "outputs": [
        {
          "output_type": "stream",
          "name": "stdout",
          "text": [
            "Unnamed: 0           0\n",
            "App                  0\n",
            "Category             0\n",
            "Rating            1463\n",
            "Reviews              0\n",
            "Size              1227\n",
            "Installs             0\n",
            "Type                 1\n",
            "Price                0\n",
            "Content Rating       0\n",
            "Genres               0\n",
            "Last Updated         0\n",
            "Current Ver          8\n",
            "Android Ver          2\n",
            "dtype: int64\n"
          ]
        }
      ]
    },
    {
      "cell_type": "code",
      "source": [
        "print(user_reviews.info())"
      ],
      "metadata": {
        "colab": {
          "base_uri": "https://localhost:8080/"
        },
        "id": "Q0qiqeiznj3F",
        "outputId": "be2f1b57-e535-4a2a-a8c0-f35510953710"
      },
      "execution_count": null,
      "outputs": [
        {
          "output_type": "stream",
          "name": "stdout",
          "text": [
            "<class 'pandas.core.frame.DataFrame'>\n",
            "RangeIndex: 64295 entries, 0 to 64294\n",
            "Data columns (total 5 columns):\n",
            " #   Column                  Non-Null Count  Dtype  \n",
            "---  ------                  --------------  -----  \n",
            " 0   App                     64295 non-null  object \n",
            " 1   Translated_Review       37427 non-null  object \n",
            " 2   Sentiment               37432 non-null  object \n",
            " 3   Sentiment_Polarity      37432 non-null  float64\n",
            " 4   Sentiment_Subjectivity  37432 non-null  float64\n",
            "dtypes: float64(2), object(3)\n",
            "memory usage: 2.5+ MB\n",
            "None\n"
          ]
        }
      ]
    },
    {
      "cell_type": "code",
      "source": [
        "print(user_reviews.describe)"
      ],
      "metadata": {
        "colab": {
          "base_uri": "https://localhost:8080/"
        },
        "id": "r__ydTSWnnfc",
        "outputId": "93165c24-dd1e-4ed7-d315-bc40362fc6c8"
      },
      "execution_count": null,
      "outputs": [
        {
          "output_type": "stream",
          "name": "stdout",
          "text": [
            "<bound method NDFrame.describe of                                App  \\\n",
            "0            10 Best Foods for You   \n",
            "1            10 Best Foods for You   \n",
            "2            10 Best Foods for You   \n",
            "3            10 Best Foods for You   \n",
            "4            10 Best Foods for You   \n",
            "...                            ...   \n",
            "64290  Houzz Interior Design Ideas   \n",
            "64291  Houzz Interior Design Ideas   \n",
            "64292  Houzz Interior Design Ideas   \n",
            "64293  Houzz Interior Design Ideas   \n",
            "64294  Houzz Interior Design Ideas   \n",
            "\n",
            "                                       Translated_Review Sentiment  \\\n",
            "0      I like eat delicious food. That's I'm cooking ...  Positive   \n",
            "1        This help eating healthy exercise regular basis  Positive   \n",
            "2                                                    NaN       NaN   \n",
            "3             Works great especially going grocery store  Positive   \n",
            "4                                           Best idea us  Positive   \n",
            "...                                                  ...       ...   \n",
            "64290                                                NaN       NaN   \n",
            "64291                                                NaN       NaN   \n",
            "64292                                                NaN       NaN   \n",
            "64293                                                NaN       NaN   \n",
            "64294                                                NaN       NaN   \n",
            "\n",
            "       Sentiment_Polarity  Sentiment_Subjectivity  \n",
            "0                    1.00                0.533333  \n",
            "1                    0.25                0.288462  \n",
            "2                     NaN                     NaN  \n",
            "3                    0.40                0.875000  \n",
            "4                    1.00                0.300000  \n",
            "...                   ...                     ...  \n",
            "64290                 NaN                     NaN  \n",
            "64291                 NaN                     NaN  \n",
            "64292                 NaN                     NaN  \n",
            "64293                 NaN                     NaN  \n",
            "64294                 NaN                     NaN  \n",
            "\n",
            "[64295 rows x 5 columns]>\n"
          ]
        }
      ]
    },
    {
      "cell_type": "code",
      "source": [
        "print(user_reviews.dtypes)"
      ],
      "metadata": {
        "colab": {
          "base_uri": "https://localhost:8080/"
        },
        "id": "4X2SrylGnpjo",
        "outputId": "12daeb4c-e97e-4dbd-efe3-022c4682994d"
      },
      "execution_count": null,
      "outputs": [
        {
          "output_type": "stream",
          "name": "stdout",
          "text": [
            "App                        object\n",
            "Translated_Review          object\n",
            "Sentiment                  object\n",
            "Sentiment_Polarity        float64\n",
            "Sentiment_Subjectivity    float64\n",
            "dtype: object\n"
          ]
        }
      ]
    },
    {
      "cell_type": "code",
      "source": [
        "print(user_reviews.head())"
      ],
      "metadata": {
        "colab": {
          "base_uri": "https://localhost:8080/"
        },
        "id": "uLQdIpmTnrz-",
        "outputId": "1c833ffa-76b3-48c5-a021-061e6a320d13"
      },
      "execution_count": null,
      "outputs": [
        {
          "output_type": "stream",
          "name": "stdout",
          "text": [
            "                     App                                  Translated_Review  \\\n",
            "0  10 Best Foods for You  I like eat delicious food. That's I'm cooking ...   \n",
            "1  10 Best Foods for You    This help eating healthy exercise regular basis   \n",
            "2  10 Best Foods for You                                                NaN   \n",
            "3  10 Best Foods for You         Works great especially going grocery store   \n",
            "4  10 Best Foods for You                                       Best idea us   \n",
            "\n",
            "  Sentiment  Sentiment_Polarity  Sentiment_Subjectivity  \n",
            "0  Positive                1.00                0.533333  \n",
            "1  Positive                0.25                0.288462  \n",
            "2       NaN                 NaN                     NaN  \n",
            "3  Positive                0.40                0.875000  \n",
            "4  Positive                1.00                0.300000  \n"
          ]
        }
      ]
    },
    {
      "cell_type": "code",
      "source": [
        "print(user_reviews.tail())"
      ],
      "metadata": {
        "colab": {
          "base_uri": "https://localhost:8080/"
        },
        "id": "gYw_qfyzntyh",
        "outputId": "5e8e1c0f-0ebe-4cef-918d-516003fc381c"
      },
      "execution_count": null,
      "outputs": [
        {
          "output_type": "stream",
          "name": "stdout",
          "text": [
            "                               App Translated_Review Sentiment  \\\n",
            "64290  Houzz Interior Design Ideas               NaN       NaN   \n",
            "64291  Houzz Interior Design Ideas               NaN       NaN   \n",
            "64292  Houzz Interior Design Ideas               NaN       NaN   \n",
            "64293  Houzz Interior Design Ideas               NaN       NaN   \n",
            "64294  Houzz Interior Design Ideas               NaN       NaN   \n",
            "\n",
            "       Sentiment_Polarity  Sentiment_Subjectivity  \n",
            "64290                 NaN                     NaN  \n",
            "64291                 NaN                     NaN  \n",
            "64292                 NaN                     NaN  \n",
            "64293                 NaN                     NaN  \n",
            "64294                 NaN                     NaN  \n"
          ]
        }
      ]
    },
    {
      "cell_type": "code",
      "source": [
        "print(user_reviews.isnull())"
      ],
      "metadata": {
        "colab": {
          "base_uri": "https://localhost:8080/"
        },
        "id": "a5DIe4r6nv8Q",
        "outputId": "2ac3d574-e665-40f4-d8fb-5052604225f2"
      },
      "execution_count": null,
      "outputs": [
        {
          "output_type": "stream",
          "name": "stdout",
          "text": [
            "         App  Translated_Review  Sentiment  Sentiment_Polarity  \\\n",
            "0      False              False      False               False   \n",
            "1      False              False      False               False   \n",
            "2      False               True       True                True   \n",
            "3      False              False      False               False   \n",
            "4      False              False      False               False   \n",
            "...      ...                ...        ...                 ...   \n",
            "64290  False               True       True                True   \n",
            "64291  False               True       True                True   \n",
            "64292  False               True       True                True   \n",
            "64293  False               True       True                True   \n",
            "64294  False               True       True                True   \n",
            "\n",
            "       Sentiment_Subjectivity  \n",
            "0                       False  \n",
            "1                       False  \n",
            "2                        True  \n",
            "3                       False  \n",
            "4                       False  \n",
            "...                       ...  \n",
            "64290                    True  \n",
            "64291                    True  \n",
            "64292                    True  \n",
            "64293                    True  \n",
            "64294                    True  \n",
            "\n",
            "[64295 rows x 5 columns]\n"
          ]
        }
      ]
    },
    {
      "cell_type": "code",
      "source": [
        "print(user_reviews.isnull().sum())"
      ],
      "metadata": {
        "colab": {
          "base_uri": "https://localhost:8080/"
        },
        "id": "tq9H27OLnxrK",
        "outputId": "d4307222-25d4-468f-dd4b-ce35c8fec7bd"
      },
      "execution_count": null,
      "outputs": [
        {
          "output_type": "stream",
          "name": "stdout",
          "text": [
            "App                           0\n",
            "Translated_Review         26868\n",
            "Sentiment                 26863\n",
            "Sentiment_Polarity        26863\n",
            "Sentiment_Subjectivity    26863\n",
            "dtype: int64\n"
          ]
        }
      ]
    },
    {
      "cell_type": "code",
      "source": [
        "print(user_reviews.isnull().sum().sum())"
      ],
      "metadata": {
        "colab": {
          "base_uri": "https://localhost:8080/"
        },
        "id": "TmJVTqg-oAZn",
        "outputId": "87879d85-72ec-4249-f4ab-2e2c11259084"
      },
      "execution_count": null,
      "outputs": [
        {
          "output_type": "stream",
          "name": "stdout",
          "text": [
            "107457\n"
          ]
        }
      ]
    },
    {
      "cell_type": "markdown",
      "source": [
        "Data Cleaning\n",
        "\n",
        "Dropping rows with missing values in Twitter data"
      ],
      "metadata": {
        "id": "O-d71JaIrdJb"
      }
    },
    {
      "cell_type": "code",
      "source": [
        "twitter_data.dropna(inplace=True)"
      ],
      "metadata": {
        "id": "dDOqDiEurhHU"
      },
      "execution_count": null,
      "outputs": []
    },
    {
      "cell_type": "markdown",
      "source": [
        "Filling missing values in user reviews with empty strings or appropriate values"
      ],
      "metadata": {
        "id": "bUuAxHHnri7L"
      }
    },
    {
      "cell_type": "code",
      "source": [
        "user_reviews['Translated_Review'].fillna('', inplace=True)\n",
        "user_reviews['Sentiment'].fillna('Neutral', inplace=True)\n",
        "user_reviews['Sentiment_Polarity'].fillna(0, inplace=True)\n",
        "user_reviews['Sentiment_Subjectivity'].fillna(0, inplace=True)\n"
      ],
      "metadata": {
        "id": "IYCfb0GmoQ9K"
      },
      "execution_count": null,
      "outputs": []
    },
    {
      "cell_type": "markdown",
      "source": [
        "Filling missing values in apps dataset with suitable replacements"
      ],
      "metadata": {
        "id": "u8GwWCPNrqsD"
      }
    },
    {
      "cell_type": "code",
      "source": [
        "# Fill missing values in the 'Rating' column with the mean of the 'Rating' column\n",
        "apps['Rating'].fillna(apps['Rating'].mean(), inplace=True)\n",
        "\n",
        "# Fill missing values in the 'Size' column with \"Varies with device\"\n",
        "apps['Size'].fillna(\"Varies with device\", inplace=True)\n",
        "\n",
        "# Fill missing values in the 'Type' column with 'Free'\n",
        "apps['Type'].fillna('Free', inplace=True)\n",
        "\n",
        "# Fill missing values in the 'Current Ver' column with \"Unknown\"\n",
        "apps['Current Ver'].fillna(\"Unknown\", inplace=True)\n",
        "\n",
        "# Fill missing values in the 'Android Ver' column with 'Varies with device'\n",
        "apps['Android Ver'].fillna('Varies with device', inplace=True)\n"
      ],
      "metadata": {
        "id": "IKTJZHQnoczl"
      },
      "execution_count": null,
      "outputs": []
    },
    {
      "cell_type": "markdown",
      "source": [
        "Verifying if missing values are handled"
      ],
      "metadata": {
        "id": "UNhqoxVtrtq8"
      }
    },
    {
      "cell_type": "code",
      "source": [
        "# Print the total number of missing values in the 'twitter_data' DataFrame\n",
        "print(twitter_data.isnull().sum().sum())\n",
        "\n",
        "# Print the total number of missing values in the 'user_reviews' DataFrame\n",
        "print(user_reviews.isnull().sum().sum())\n",
        "\n",
        "# Print the total number of missing values in the 'apps' DataFrame\n",
        "print(apps.isnull().sum().sum())\n"
      ],
      "metadata": {
        "colab": {
          "base_uri": "https://localhost:8080/"
        },
        "id": "SIFPhK1mooXJ",
        "outputId": "23437aa9-3665-4937-b70e-e8aec85070ae"
      },
      "execution_count": null,
      "outputs": [
        {
          "output_type": "stream",
          "name": "stdout",
          "text": [
            "11\n",
            "0\n",
            "0\n"
          ]
        }
      ]
    },
    {
      "cell_type": "markdown",
      "source": [
        "Exploratory Data Analysis (EDA)"
      ],
      "metadata": {
        "id": "rUz8vzbSr2JY"
      }
    },
    {
      "cell_type": "code",
      "source": [
        "import matplotlib.pyplot as plt\n",
        "import seaborn as sns\n",
        "\n",
        "plt.figure(figsize=(8, 6))\n",
        "sns.countplot(x='category', data=twitter_data)\n",
        "plt.title('Sentiment Distribution in Twitter Data')\n",
        "plt.show()\n"
      ],
      "metadata": {
        "colab": {
          "base_uri": "https://localhost:8080/",
          "height": 564
        },
        "id": "vkJWQQhhovTL",
        "outputId": "5e812565-2027-4a4f-8a89-246d0f922ea4"
      },
      "execution_count": null,
      "outputs": [
        {
          "output_type": "display_data",
          "data": {
            "text/plain": [
              "<Figure size 800x600 with 1 Axes>"
            ],
            "image/png": "[encoded data removed]"
          },
          "metadata": {}
        }
      ]
    },
    {
      "cell_type": "code",
      "source": [
        "import matplotlib.pyplot as plt\n",
        "import seaborn as sns\n",
        "\n",
        "plt.figure(figsize=(8, 6))\n",
        "sns.histplot(apps['Rating'], bins=30, kde=True)\n",
        "plt.title('Distribution of App Ratings')\n",
        "plt.show()\n"
      ],
      "metadata": {
        "colab": {
          "base_uri": "https://localhost:8080/",
          "height": 564
        },
        "id": "5g2RZt8tpDwS",
        "outputId": "c67ae1a7-b71a-4d35-f52a-3ca44ab0a942"
      },
      "execution_count": null,
      "outputs": [
        {
          "output_type": "display_data",
          "data": {
            "text/plain": [
              "<Figure size 800x600 with 1 Axes>"
            ],
            "image/png": "[encoded data removed]"
          },
          "metadata": {}
        }
      ]
    },
    {
      "cell_type": "code",
      "source": [
        "import matplotlib.pyplot as plt\n",
        "import seaborn as sns\n",
        "\n",
        "plt.figure(figsize=(8, 6))\n",
        "sns.histplot(user_reviews['Sentiment_Polarity'], bins=30, kde=True)\n",
        "plt.title('Distribution of Sentiment Polarity in User Reviews')\n",
        "plt.show()\n"
      ],
      "metadata": {
        "colab": {
          "base_uri": "https://localhost:8080/",
          "height": 564
        },
        "id": "cHWlE90HpYBI",
        "outputId": "c5d89ad2-2c75-47c9-f75d-9a3275911d01"
      },
      "execution_count": null,
      "outputs": [
        {
          "output_type": "display_data",
          "data": {
            "text/plain": [
              "<Figure size 800x600 with 1 Axes>"
            ],
            "image/png": "[encoded data removed]"
          },
          "metadata": {}
        }
      ]
    },
    {
      "cell_type": "markdown",
      "source": [
        "Feature engineering for Twitter data using TF-IDF Vectorizer"
      ],
      "metadata": {
        "id": "LFUM29qXr_lP"
      }
    },
    {
      "cell_type": "code",
      "source": [
        "import pandas as pd\n",
        "from sklearn.feature_extraction.text import TfidfVectorizer\n",
        "from sklearn.model_selection import train_test_split\n",
        "\n",
        "# Sample code to load your data (replace with your actual data loading method)\n",
        "# twitter_data = pd.read_csv('path_to_your_data.csv')\n",
        "\n",
        "# Handle missing values in 'clean_text' column\n",
        "twitter_data['clean_text'].fillna('', inplace=True)\n",
        "\n",
        "# Initialize the TF-IDF vectorizer\n",
        "vectorizer = TfidfVectorizer(max_features=5000, ngram_range=(1, 2))\n",
        "\n",
        "# Transform the text data\n",
        "X_twitter = vectorizer.fit_transform(twitter_data['clean_text'])\n",
        "\n",
        "# Extract the target variable\n",
        "y_twitter = twitter_data['category']\n",
        "\n",
        "# Split the data into training and testing sets\n",
        "X_train_twitter, X_test_twitter, y_train_twitter, y_test_twitter = train_test_split(\n",
        "    X_twitter, y_twitter, test_size=0.2, random_state=42\n",
        ")\n",
        "\n",
        "# Verify the splits\n",
        "print(f\"Training data shape: {X_train_twitter.shape}\")\n",
        "print(f\"Testing data shape: {X_test_twitter.shape}\")\n"
      ],
      "metadata": {
        "colab": {
          "base_uri": "https://localhost:8080/"
        },
        "id": "q3aF-g_5pdiT",
        "outputId": "0b1dbc29-d8ca-401e-d415-86cf573c94a0"
      },
      "execution_count": null,
      "outputs": [
        {
          "output_type": "stream",
          "name": "stdout",
          "text": [
            "Training data shape: (130384, 5000)\n",
            "Testing data shape: (32596, 5000)\n"
          ]
        }
      ]
    },
    {
      "cell_type": "markdown",
      "source": [
        "Splitting the Twitter data into training and testing sets"
      ],
      "metadata": {
        "id": "Xzq8uN3ksBHu"
      }
    },
    {
      "cell_type": "code",
      "source": [
        "from sklearn.model_selection import train_test_split\n",
        "\n",
        "# Split the data into training and testing sets\n",
        "X_train_twitter, X_test_twitter, y_train_twitter, y_test_twitter = train_test_split(\n",
        "    X_twitter, y_twitter, test_size=0.2, random_state=42\n",
        ")\n"
      ],
      "metadata": {
        "id": "Wv_q79hdpkZW"
      },
      "execution_count": null,
      "outputs": []
    },
    {
      "cell_type": "markdown",
      "source": [
        "Training a Naive Bayes classifier for Twitter sentiment analysis"
      ],
      "metadata": {
        "id": "JIY1yfc_sEU8"
      }
    },
    {
      "cell_type": "code",
      "source": [
        "import pandas as pd\n",
        "from sklearn.feature_extraction.text import TfidfVectorizer\n",
        "from sklearn.model_selection import train_test_split\n",
        "from sklearn.naive_bayes import MultinomialNB\n",
        "\n",
        "# Sample code to load your data (replace with your actual data loading method)\n",
        "# twitter_data = pd.read_csv('path_to_your_data.csv')\n",
        "\n",
        "# Handle missing values in 'clean_text' column\n",
        "twitter_data['clean_text'].fillna('', inplace=True)\n",
        "\n",
        "# Initialize the TF-IDF vectorizer\n",
        "vectorizer = TfidfVectorizer(max_features=5000, ngram_range=(1, 2))\n",
        "\n",
        "# Transform the text data\n",
        "X_twitter = vectorizer.fit_transform(twitter_data['clean_text'])\n",
        "\n",
        "# Extract the target variable\n",
        "y_twitter = twitter_data['category']\n",
        "\n",
        "# Split the data into training and testing sets\n",
        "X_train_twitter, X_test_twitter, y_train_twitter, y_test_twitter = train_test_split(\n",
        "    X_twitter, y_twitter, test_size=0.2, random_state=42\n",
        ")\n",
        "\n",
        "# Handle missing values in the target variable\n",
        "print(y_train_twitter.isnull().sum())  # Check for missing values in the target variable\n",
        "\n",
        "# Option 1: Remove rows with missing target values\n",
        "non_missing_indices = y_train_twitter.notnull()\n",
        "X_train_twitter = X_train_twitter[non_missing_indices]\n",
        "y_train_twitter = y_train_twitter[non_missing_indices]\n",
        "\n",
        "# Initialize and fit the Multinomial Naive Bayes model\n",
        "model_nb = MultinomialNB()\n",
        "model_nb.fit(X_train_twitter, y_train_twitter)\n",
        "\n",
        "# Optionally, you can print out the model accuracy on the test set if needed\n",
        "from sklearn.metrics import accuracy_score\n",
        "\n",
        "# Predict on the test set\n",
        "y_pred_twitter = model_nb.predict(X_test_twitter)\n",
        "\n",
        "# Calculate accuracy\n",
        "accuracy = accuracy_score(y_test_twitter, y_pred_twitter)\n",
        "print(f\"Model Accuracy: {accuracy:.2f}\")\n"
      ],
      "metadata": {
        "colab": {
          "base_uri": "https://localhost:8080/"
        },
        "id": "g-1_TX1cqKw0",
        "outputId": "822037ee-bfd9-425d-8331-46f7ad5745c5"
      },
      "execution_count": null,
      "outputs": [
        {
          "output_type": "stream",
          "name": "stdout",
          "text": [
            "7\n",
            "Model Accuracy: 0.75\n"
          ]
        }
      ]
    },
    {
      "cell_type": "markdown",
      "source": [
        "Making predictions"
      ],
      "metadata": {
        "id": "dceZVNgesHFA"
      }
    },
    {
      "cell_type": "code",
      "source": [
        "# Predict on the test set\n",
        "y_pred_twitter = model_nb.predict(X_test_twitter)\n"
      ],
      "metadata": {
        "id": "Yjp6IYqFqX0R"
      },
      "execution_count": null,
      "outputs": []
    },
    {
      "cell_type": "markdown",
      "source": [
        "Evaluating the model"
      ],
      "metadata": {
        "id": "Y6MmpJC7sLF_"
      }
    },
    {
      "cell_type": "code",
      "source": [
        "from sklearn.metrics import confusion_matrix\n",
        "\n",
        "# Compute the confusion matrix\n",
        "cm = confusion_matrix(y_test_twitter, y_pred_twitter)\n",
        "\n",
        "# Print the confusion matrix\n",
        "print(\"Confusion Matrix:\")\n",
        "print(cm)\n"
      ],
      "metadata": {
        "colab": {
          "base_uri": "https://localhost:8080/"
        },
        "id": "dAz3M1l3qmXN",
        "outputId": "8593b4b6-0627-451c-aecf-abe1b48a2487"
      },
      "execution_count": null,
      "outputs": [
        {
          "output_type": "stream",
          "name": "stdout",
          "text": [
            "Confusion Matrix:\n",
            "[[ 3304   724  3151]\n",
            " [  138  7963  2933]\n",
            " [  385   665 13333]]\n"
          ]
        }
      ]
    },
    {
      "cell_type": "markdown",
      "source": [],
      "metadata": {
        "id": "0d_GnMCdsOCF"
      }
    },
    {
      "cell_type": "code",
      "source": [
        "from sklearn.metrics import classification_report\n",
        "\n",
        "# Compute the classification report\n",
        "report = classification_report(y_test_twitter, y_pred_twitter)\n",
        "\n",
        "# Print the classification report\n",
        "print(\"Classification Report:\")\n",
        "print(report)\n"
      ],
      "metadata": {
        "colab": {
          "base_uri": "https://localhost:8080/"
        },
        "id": "AhuiGA5hq5bA",
        "outputId": "e583e96e-e313-473d-fc60-dc7badc16cbf"
      },
      "execution_count": null,
      "outputs": [
        {
          "output_type": "stream",
          "name": "stdout",
          "text": [
            "Classification Report:\n",
            "              precision    recall  f1-score   support\n",
            "\n",
            "        -1.0       0.86      0.46      0.60      7179\n",
            "         0.0       0.85      0.72      0.78     11034\n",
            "         1.0       0.69      0.93      0.79     14383\n",
            "\n",
            "    accuracy                           0.75     32596\n",
            "   macro avg       0.80      0.70      0.72     32596\n",
            "weighted avg       0.78      0.75      0.74     32596\n",
            "\n"
          ]
        }
      ]
    },
    {
      "cell_type": "markdown",
      "source": [
        "Data Visualization of Results"
      ],
      "metadata": {
        "id": "N8qi5Ka1sUZz"
      }
    },
    {
      "cell_type": "code",
      "source": [
        "import matplotlib.pyplot as plt\n",
        "import seaborn as sns\n",
        "from sklearn.metrics import confusion_matrix\n",
        "\n",
        "# Compute the confusion matrix\n",
        "conf_matrix = confusion_matrix(y_test_twitter, y_pred_twitter)\n",
        "\n",
        "# Plot the confusion matrix as a heatmap\n",
        "plt.figure(figsize=(8, 6))\n",
        "sns.heatmap(conf_matrix, annot=True, fmt='d', cmap='Blues',\n",
        "            xticklabels=['Negative', 'Neutral', 'Positive'],\n",
        "            yticklabels=['Negative', 'Neutral', 'Positive'])\n",
        "plt.xlabel('Predicted')\n",
        "plt.ylabel('Actual')\n",
        "plt.title('Confusion Matrix for Twitter Sentiment Analysis')\n",
        "plt.show()\n"
      ],
      "metadata": {
        "colab": {
          "base_uri": "https://localhost:8080/",
          "height": 564
        },
        "id": "u-OsN6MRrFFn",
        "outputId": "d1ff4b78-8d4a-4b67-c3ba-2d60fd2cb1d9"
      },
      "execution_count": null,
      "outputs": [
        {
          "output_type": "display_data",
          "data": {
            "text/plain": [
              "<Figure size 800x600 with 2 Axes>"
            ],
            "image/png": "[encoded data removed]"
          },
          "metadata": {}
        }
      ]
    }
  ]
}